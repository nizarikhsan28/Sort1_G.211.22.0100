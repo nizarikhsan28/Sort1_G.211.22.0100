{
  "nbformat": 4,
  "nbformat_minor": 0,
  "metadata": {
    "colab": {
      "provenance": []
    },
    "kernelspec": {
      "name": "python3",
      "display_name": "Python 3"
    },
    "language_info": {
      "name": "python"
    }
  },
  "cells": [
    {
      "cell_type": "markdown",
      "source": [
        "**Bubble Sort**"
      ],
      "metadata": {
        "id": "55tB9kGarmkG"
      }
    },
    {
      "cell_type": "code",
      "execution_count": 24,
      "metadata": {
        "colab": {
          "base_uri": "https://localhost:8080/"
        },
        "id": "6zfRn8jSjmyq",
        "outputId": "2a0b8c58-5f48-4858-d3cd-f09df2842c61"
      },
      "outputs": [
        {
          "output_type": "stream",
          "name": "stdout",
          "text": [
            "Bubble Sort: [9, 11, 12, 15, 22, 33, 36]\n"
          ]
        }
      ],
      "source": [
        "def bubble_sort(arr):\n",
        "    n = len(arr)  # Mendapatkan panjang list\n",
        "\n",
        "    # Traverse melalui semua elemen dalam list\n",
        "    for i in range(n):\n",
        "        # Elemen terakhir (i) sudah terurut, jadi tidak perlu memeriksanya\n",
        "        for j in range(0, n-i-1):\n",
        "            # Tukar jika elemen yang ditemukan lebih besar dari elemen berikutnya\n",
        "            if arr[j] > arr[j+1]:\n",
        "                # Lakukan pertukaran\n",
        "                arr[j], arr[j+1] = arr[j+1], arr[j]\n",
        "\n",
        "# Contoh penggunaan\n",
        "listAngka = [11, 9, 33, 12, 22, 15, 36]\n",
        "bubble_sort(listAngka)\n",
        "print(\"Bubble Sort:\", listAngka)"
      ]
    },
    {
      "cell_type": "markdown",
      "source": [
        "**Selection Sort**"
      ],
      "metadata": {
        "id": "Miy_6vbzrd0s"
      }
    },
    {
      "cell_type": "code",
      "source": [
        "def selection_sort(arr):\n",
        "    n = len(arr)  # Mendapatkan panjang list\n",
        "\n",
        "    # Traverse melalui semua elemen dalam array\n",
        "    for i in range(n):\n",
        "        # Temukan elemen minimum di bagian yang belum diurutkan dari array\n",
        "        min_idx = i\n",
        "        for j in range(i+1, n):\n",
        "            if arr[j] < arr[min_idx]:\n",
        "                min_idx = j\n",
        "\n",
        "        # Tukar elemen minimum yang ditemukan dengan elemen pertama\n",
        "        arr[i], arr[min_idx] = arr[min_idx], arr[i]\n",
        "\n",
        "# Contoh penggunaan\n",
        "listAngka = [64, 25, 12, 22, 11, 18]\n",
        "selection_sort(listAngka)\n",
        "print(\"Selection Sort :\", listAngka)"
      ],
      "metadata": {
        "colab": {
          "base_uri": "https://localhost:8080/"
        },
        "id": "cradyvP5odRc",
        "outputId": "bf1c5db0-33d7-401b-8a02-f0b675be6e68"
      },
      "execution_count": 23,
      "outputs": [
        {
          "output_type": "stream",
          "name": "stdout",
          "text": [
            "Selection Sort : [11, 12, 18, 22, 25, 64]\n"
          ]
        }
      ]
    },
    {
      "cell_type": "markdown",
      "source": [
        "**Insertion Sort**"
      ],
      "metadata": {
        "id": "rHAjz4tPpwje"
      }
    },
    {
      "cell_type": "code",
      "source": [
        "def insertion_sort(arr):\n",
        "    # Traverse melalui 1 hingga len(arr)\n",
        "    for i in range(1, len(arr)):\n",
        "        key = arr[i]\n",
        "\n",
        "        # Pindahkan elemen arr[0..i-1] yang lebih besar dari key ke satu posisi sebelum posisi mereka saat ini\n",
        "        j = i-1\n",
        "        while j >= 0 and key < arr[j]:\n",
        "            arr[j+1] = arr[j]\n",
        "            j -= 1\n",
        "        arr[j+1] = key\n",
        "\n",
        "# Contoh penggunaan\n",
        "listAngka = [12, 11, 13, 5, 6, 8]\n",
        "insertion_sort(listAngka)\n",
        "print(\"Insertion Sort:\", listAngka)\n"
      ],
      "metadata": {
        "colab": {
          "base_uri": "https://localhost:8080/"
        },
        "id": "6kK0_AE4oznF",
        "outputId": "8830a947-ae20-4e9b-9576-ffb154a8b79c"
      },
      "execution_count": 19,
      "outputs": [
        {
          "output_type": "stream",
          "name": "stdout",
          "text": [
            "Insertion Sort: [5, 6, 8, 11, 12, 13]\n"
          ]
        }
      ]
    }
  ]
}